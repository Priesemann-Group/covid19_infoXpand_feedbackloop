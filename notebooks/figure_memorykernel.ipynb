{
 "cells": [
  {
   "cell_type": "code",
   "execution_count": null,
   "id": "4e9f12af",
   "metadata": {},
   "outputs": [],
   "source": [
    "import numpy as np\n",
    "from matplotlib import pyplot as plt\n",
    "import matplotlib as mpl\n",
    "import time"
   ]
  },
  {
   "cell_type": "code",
   "execution_count": null,
   "id": "6d19325e",
   "metadata": {},
   "outputs": [],
   "source": [
    "import sys\n",
    "sys.path.append(\"../code\")\n",
    "import model_agegroups\n",
    "import plotting\n",
    "import plotting_agegroups\n",
    "import parameters_agegroups"
   ]
  },
  {
   "cell_type": "code",
   "execution_count": null,
   "id": "40bd0aeb",
   "metadata": {},
   "outputs": [],
   "source": [
    "motivation2 = {\n",
    "    'ax1': 'Gamma R',\n",
    "    'ax2': 'Kernel R',\n",
    "    'ax3': 'Gamma Vac',\n",
    "    'ax4': 'Kernel Vac',\n",
    "    'cStringency': '#1B1919FF',\n",
    "    'cCosmodata': 'red',\n",
    "    'cFit': 'black',\n",
    "    'cICU': '#00468BFF',\n",
    "    'c1': '#1B1919FF',\n",
    "    'c2': '#00468BFF',\n",
    "    'c3': '#0099B4FF',\n",
    "    'cKernelR': 'salmon',\n",
    "    'cKernelu': 'indianred',\n",
    "    'cKernelw': 'maroon',\n",
    "}"
   ]
  },
  {
   "cell_type": "code",
   "execution_count": null,
   "id": "d36fe7f2",
   "metadata": {},
   "outputs": [],
   "source": [
    "import importlib\n",
    "importlib.reload(plotting_agegroups)\n",
    "plotting_agegroups.gammakernels(motivation2, \"./figures/fig_memorykernels.pdf\", arial=False)"
   ]
  }
 ],
 "metadata": {
  "kernelspec": {
   "display_name": "Python 3 (ipykernel)",
   "language": "python",
   "name": "python3"
  },
  "language_info": {
   "codemirror_mode": {
    "name": "ipython",
    "version": 3
   },
   "file_extension": ".py",
   "mimetype": "text/x-python",
   "name": "python",
   "nbconvert_exporter": "python",
   "pygments_lexer": "ipython3",
   "version": "3.7.11"
  }
 },
 "nbformat": 4,
 "nbformat_minor": 5
}
